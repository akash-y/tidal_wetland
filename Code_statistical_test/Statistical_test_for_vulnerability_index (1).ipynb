{
 "cells": [
  {
   "cell_type": "markdown",
   "metadata": {},
   "source": [
    "## Data processing in Arcmap\n",
    "##### 1. Calculate shape are: open attribute table—add Field—create a field name area—right click the field column—click Calculate Geometry \n",
    "https://blog.csdn.net/SYDBC/article/details/17759853\n",
    "##### 2. Convert coordinate system:  Data management tools —Projections and Transformations—Raster—Project—input shapefile that need to change CRS—select ouput CRS\n",
    "https://blog.csdn.net/zdw_wym/article/details/8025509"
   ]
  },
  {
   "cell_type": "code",
   "execution_count": 173,
   "metadata": {},
   "outputs": [],
   "source": [
    "import geopandas as gpd\n",
    "import pandas as pd\n",
    "import matplotlib.pyplot as plt\n",
    "import math\n",
    "from scipy import stats"
   ]
  },
  {
   "cell_type": "markdown",
   "metadata": {},
   "source": [
    "## Read shapefile\n",
    "#### slamm: New saltmarsh develop area in 2085 with the probability >=70%  (could be replace to other \"uncertainty analysis\" shapefile )\n",
    "#### svi： vulnerability index (don't know what it means)\n"
   ]
  },
  {
   "cell_type": "code",
   "execution_count": 186,
   "metadata": {},
   "outputs": [],
   "source": [
    "slamm = gpd.GeoDataFrame.from_file('output/NewMarsh3.shp')\n",
    "svi = gpd.GeoDataFrame.from_file('output/svi.shp')"
   ]
  },
  {
   "cell_type": "markdown",
   "metadata": {},
   "source": [
    "## Spatial join\n",
    "##### Join svi and slamm dataset by intersecton. Calculate the total slamm affect area\n",
    "##### id field in svi is the only primary key in svi "
   ]
  },
  {
   "cell_type": "code",
   "execution_count": 187,
   "metadata": {},
   "outputs": [],
   "source": [
    "borofh = gpd.sjoin(svi, slamm, op=\"intersects\",how='left')"
   ]
  },
  {
   "cell_type": "code",
   "execution_count": 188,
   "metadata": {},
   "outputs": [],
   "source": [
    "borofh.rename(columns= {'kk':'slamm_area'},inplace = True)\n",
    "area_cal = borofh.groupby('id').sum()['slamm_area'].reset_index()"
   ]
  },
  {
   "cell_type": "code",
   "execution_count": 189,
   "metadata": {},
   "outputs": [
    {
     "data": {
      "text/html": [
       "<div>\n",
       "<style scoped>\n",
       "    .dataframe tbody tr th:only-of-type {\n",
       "        vertical-align: middle;\n",
       "    }\n",
       "\n",
       "    .dataframe tbody tr th {\n",
       "        vertical-align: top;\n",
       "    }\n",
       "\n",
       "    .dataframe thead th {\n",
       "        text-align: right;\n",
       "    }\n",
       "</style>\n",
       "<table border=\"1\" class=\"dataframe\">\n",
       "  <thead>\n",
       "    <tr style=\"text-align: right;\">\n",
       "      <th></th>\n",
       "      <th>id</th>\n",
       "      <th>slamm_area</th>\n",
       "    </tr>\n",
       "  </thead>\n",
       "  <tbody>\n",
       "    <tr>\n",
       "      <th>0</th>\n",
       "      <td>1</td>\n",
       "      <td>0.000000</td>\n",
       "    </tr>\n",
       "    <tr>\n",
       "      <th>1</th>\n",
       "      <td>2</td>\n",
       "      <td>0.000000</td>\n",
       "    </tr>\n",
       "    <tr>\n",
       "      <th>2</th>\n",
       "      <td>3</td>\n",
       "      <td>1666.009521</td>\n",
       "    </tr>\n",
       "    <tr>\n",
       "      <th>3</th>\n",
       "      <td>4</td>\n",
       "      <td>0.000000</td>\n",
       "    </tr>\n",
       "    <tr>\n",
       "      <th>4</th>\n",
       "      <td>5</td>\n",
       "      <td>0.000000</td>\n",
       "    </tr>\n",
       "  </tbody>\n",
       "</table>\n",
       "</div>"
      ],
      "text/plain": [
       "   id   slamm_area\n",
       "0   1     0.000000\n",
       "1   2     0.000000\n",
       "2   3  1666.009521\n",
       "3   4     0.000000\n",
       "4   5     0.000000"
      ]
     },
     "execution_count": 189,
     "metadata": {},
     "output_type": "execute_result"
    }
   ],
   "source": [
    "area_cal.head()"
   ]
  },
  {
   "cell_type": "markdown",
   "metadata": {},
   "source": [
    "###### Merge back to svi"
   ]
  },
  {
   "cell_type": "code",
   "execution_count": 190,
   "metadata": {},
   "outputs": [],
   "source": [
    "final = svi.merge(area_cal,on='id')"
   ]
  },
  {
   "cell_type": "code",
   "execution_count": 179,
   "metadata": {},
   "outputs": [],
   "source": [
    "final.to_file('combine_svi/flood.shp')"
   ]
  },
  {
   "cell_type": "markdown",
   "metadata": {},
   "source": [
    "## Basic statistic test\n",
    "##### affect : select tracts that new marsh develop in 2085 greater than 70% chances\n",
    "##### naffect: select tracts that no new marsh develop or smaller than 30% chance"
   ]
  },
  {
   "cell_type": "code",
   "execution_count": 191,
   "metadata": {},
   "outputs": [],
   "source": [
    "affect = final[final.slamm_area!=0]\n",
    "naffect = final[final.slamm_area==0]"
   ]
  },
  {
   "cell_type": "code",
   "execution_count": 192,
   "metadata": {},
   "outputs": [
    {
     "data": {
      "text/html": [
       "<div>\n",
       "<style scoped>\n",
       "    .dataframe tbody tr th:only-of-type {\n",
       "        vertical-align: middle;\n",
       "    }\n",
       "\n",
       "    .dataframe tbody tr th {\n",
       "        vertical-align: top;\n",
       "    }\n",
       "\n",
       "    .dataframe thead th {\n",
       "        text-align: right;\n",
       "    }\n",
       "</style>\n",
       "<table border=\"1\" class=\"dataframe\">\n",
       "  <thead>\n",
       "    <tr style=\"text-align: right;\">\n",
       "      <th></th>\n",
       "      <th>id</th>\n",
       "      <th>tracts</th>\n",
       "      <th>name</th>\n",
       "      <th>area</th>\n",
       "      <th>leng</th>\n",
       "      <th>svi</th>\n",
       "      <th>geometry</th>\n",
       "      <th>slamm_area</th>\n",
       "    </tr>\n",
       "  </thead>\n",
       "  <tbody>\n",
       "    <tr>\n",
       "      <th>2</th>\n",
       "      <td>3</td>\n",
       "      <td>000900</td>\n",
       "      <td>Battery Park City-Lower Manhattan</td>\n",
       "      <td>3.122059e+06</td>\n",
       "      <td>16484.098901</td>\n",
       "      <td>1.976388</td>\n",
       "      <td>(POLYGON ((-74.00078295275675 40.6942865156646...</td>\n",
       "      <td>1666.009521</td>\n",
       "    </tr>\n",
       "    <tr>\n",
       "      <th>36</th>\n",
       "      <td>2068</td>\n",
       "      <td>009300</td>\n",
       "      <td>Hunts Point</td>\n",
       "      <td>2.529189e+07</td>\n",
       "      <td>34312.132675</td>\n",
       "      <td>-0.904708</td>\n",
       "      <td>POLYGON ((-73.88799643614669 40.81666338586315...</td>\n",
       "      <td>7555.290237</td>\n",
       "    </tr>\n",
       "    <tr>\n",
       "      <th>80</th>\n",
       "      <td>75</td>\n",
       "      <td>026900</td>\n",
       "      <td>Kingsbridge Heights</td>\n",
       "      <td>4.243317e+06</td>\n",
       "      <td>12024.048182</td>\n",
       "      <td>-0.271373</td>\n",
       "      <td>POLYGON ((-73.90607917977972 40.87324242069398...</td>\n",
       "      <td>217.117286</td>\n",
       "    </tr>\n",
       "    <tr>\n",
       "      <th>81</th>\n",
       "      <td>76</td>\n",
       "      <td>026900</td>\n",
       "      <td>Kingsbridge Heights</td>\n",
       "      <td>4.243317e+06</td>\n",
       "      <td>12024.048182</td>\n",
       "      <td>-0.296861</td>\n",
       "      <td>POLYGON ((-73.90607917977972 40.87324242069398...</td>\n",
       "      <td>217.117286</td>\n",
       "    </tr>\n",
       "    <tr>\n",
       "      <th>94</th>\n",
       "      <td>92</td>\n",
       "      <td>002000</td>\n",
       "      <td>Lower East Side</td>\n",
       "      <td>1.368856e+06</td>\n",
       "      <td>4690.072720</td>\n",
       "      <td>14.850262</td>\n",
       "      <td>POLYGON ((-73.97288971396699 40.7210882972193,...</td>\n",
       "      <td>50.000000</td>\n",
       "    </tr>\n",
       "  </tbody>\n",
       "</table>\n",
       "</div>"
      ],
      "text/plain": [
       "      id  tracts                               name          area  \\\n",
       "2      3  000900  Battery Park City-Lower Manhattan  3.122059e+06   \n",
       "36  2068  009300                        Hunts Point  2.529189e+07   \n",
       "80    75  026900                Kingsbridge Heights  4.243317e+06   \n",
       "81    76  026900                Kingsbridge Heights  4.243317e+06   \n",
       "94    92  002000                    Lower East Side  1.368856e+06   \n",
       "\n",
       "            leng        svi  \\\n",
       "2   16484.098901   1.976388   \n",
       "36  34312.132675  -0.904708   \n",
       "80  12024.048182  -0.271373   \n",
       "81  12024.048182  -0.296861   \n",
       "94   4690.072720  14.850262   \n",
       "\n",
       "                                             geometry   slamm_area  \n",
       "2   (POLYGON ((-74.00078295275675 40.6942865156646...  1666.009521  \n",
       "36  POLYGON ((-73.88799643614669 40.81666338586315...  7555.290237  \n",
       "80  POLYGON ((-73.90607917977972 40.87324242069398...   217.117286  \n",
       "81  POLYGON ((-73.90607917977972 40.87324242069398...   217.117286  \n",
       "94  POLYGON ((-73.97288971396699 40.7210882972193,...    50.000000  "
      ]
     },
     "execution_count": 192,
     "metadata": {},
     "output_type": "execute_result"
    }
   ],
   "source": [
    "affect.head()"
   ]
  },
  {
   "cell_type": "markdown",
   "metadata": {},
   "source": [
    "##### Histogram"
   ]
  },
  {
   "cell_type": "code",
   "execution_count": 193,
   "metadata": {},
   "outputs": [
    {
     "data": {
      "image/png": "[encoded data removed]",
      "text/plain": [
       "<Figure size 1116x720 with 1 Axes>"
      ]
     },
     "metadata": {},
     "output_type": "display_data"
    }
   ],
   "source": [
    "plt.figure(figsize=(15.5,10))\n",
    "bins = 20\n",
    "plt.hist(naffect['svi'], bins=bins, alpha = 0.5, label='No_New_Marsh_Develop')\n",
    "plt.hist(affect['svi'], bins=bins, alpha = 0.5, label='New_Coastal_Marsh_Develop')\n",
    "\n",
    "plt.legend(loc='upper right')\n",
    "plt.title('Vulnerabliity index histrogram', fontsize=18)\n",
    "plt.xlabel('vulnerability index', fontsize=16)\n",
    "plt.ylabel('count',fontsize= 16)\n",
    "plt.savefig('his_flood.png')"
   ]
  },
  {
   "cell_type": "markdown",
   "metadata": {},
   "source": [
    "###### Non SLAMM affected tracts are much more than SLAMM affected tracts\n"
   ]
  },
  {
   "cell_type": "markdown",
   "metadata": {},
   "source": [
    "##### Two sample t test"
   ]
  },
  {
   "cell_type": "code",
   "execution_count": 194,
   "metadata": {},
   "outputs": [
    {
     "data": {
      "text/plain": [
       "Ttest_indResult(statistic=2.770092362600031, pvalue=0.005649917923186048)"
      ]
     },
     "execution_count": 194,
     "metadata": {},
     "output_type": "execute_result"
    }
   ],
   "source": [
    "stats.ttest_ind(affect['svi'], naffect['svi'])"
   ]
  },
  {
   "cell_type": "code",
   "execution_count": 195,
   "metadata": {},
   "outputs": [
    {
     "data": {
      "text/plain": [
       "0.39237621422887514"
      ]
     },
     "execution_count": 195,
     "metadata": {},
     "output_type": "execute_result"
    }
   ],
   "source": [
    "affect['svi'].mean()"
   ]
  },
  {
   "cell_type": "code",
   "execution_count": 196,
   "metadata": {},
   "outputs": [
    {
     "data": {
      "text/plain": [
       "-0.2172565086680519"
      ]
     },
     "execution_count": 196,
     "metadata": {},
     "output_type": "execute_result"
    }
   ],
   "source": [
    "naffect['svi'].mean()"
   ]
  },
  {
   "cell_type": "markdown",
   "metadata": {},
   "source": [
    "##### SLAMM affect area's svi are statistically higher than no affect area with 1% significant level"
   ]
  },
  {
   "cell_type": "code",
   "execution_count": null,
   "metadata": {},
   "outputs": [],
   "source": []
  }
 ],
 "metadata": {
  "kernelspec": {
   "display_name": "Python 3",
   "language": "python",
   "name": "python3"
  },
  "language_info": {
   "codemirror_mode": {
    "name": "ipython",
    "version": 3
   },
   "file_extension": ".py",
   "mimetype": "text/x-python",
   "name": "python",
   "nbconvert_exporter": "python",
   "pygments_lexer": "ipython3",
   "version": "3.6.5"
  }
 },
 "nbformat": 4,
 "nbformat_minor": 2
}
