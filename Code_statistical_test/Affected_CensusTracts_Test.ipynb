{
 "cells": [
  {
   "cell_type": "code",
   "execution_count": 42,
   "metadata": {},
   "outputs": [],
   "source": [
    "import pandas as pd\n",
    "import matplotlib.pyplot as plt\n",
    "%matplotlib inline\n",
    "import math\n",
    "from scipy import stats"
   ]
  },
  {
   "cell_type": "code",
   "execution_count": 13,
   "metadata": {},
   "outputs": [
    {
     "name": "stderr",
     "output_type": "stream",
     "text": [
      "/Users/Andrew/anaconda3/lib/python3.7/site-packages/IPython/core/interactiveshell.py:3020: DtypeWarning: Columns (20,21,23,24,25,65,66) have mixed types. Specify dtype option on import or set low_memory=False.\n",
      "  interactivity=interactivity, compiler=compiler, result=result)\n"
     ]
    },
    {
     "data": {
      "text/html": [
       "<div>\n",
       "<style scoped>\n",
       "    .dataframe tbody tr th:only-of-type {\n",
       "        vertical-align: middle;\n",
       "    }\n",
       "\n",
       "    .dataframe tbody tr th {\n",
       "        vertical-align: top;\n",
       "    }\n",
       "\n",
       "    .dataframe thead th {\n",
       "        text-align: right;\n",
       "    }\n",
       "</style>\n",
       "<table border=\"1\" class=\"dataframe\">\n",
       "  <thead>\n",
       "    <tr style=\"text-align: right;\">\n",
       "      <th></th>\n",
       "      <th>id</th>\n",
       "      <th>borough</th>\n",
       "      <th>block</th>\n",
       "      <th>lot</th>\n",
       "      <th>cd</th>\n",
       "      <th>ct2010</th>\n",
       "      <th>cb2010</th>\n",
       "      <th>schooldist</th>\n",
       "      <th>council</th>\n",
       "      <th>zipcode</th>\n",
       "      <th>...</th>\n",
       "      <th>taxmap</th>\n",
       "      <th>edesignum</th>\n",
       "      <th>appbbl</th>\n",
       "      <th>appdate</th>\n",
       "      <th>plutomapid</th>\n",
       "      <th>firm07_fla</th>\n",
       "      <th>pfirm15_fl</th>\n",
       "      <th>version</th>\n",
       "      <th>shape_leng</th>\n",
       "      <th>shape_area</th>\n",
       "    </tr>\n",
       "  </thead>\n",
       "  <tbody>\n",
       "    <tr>\n",
       "      <th>0</th>\n",
       "      <td>1</td>\n",
       "      <td>MN</td>\n",
       "      <td>1</td>\n",
       "      <td>10</td>\n",
       "      <td>101</td>\n",
       "      <td>5.0</td>\n",
       "      <td>1022.0</td>\n",
       "      <td>2.0</td>\n",
       "      <td>1</td>\n",
       "      <td>10004</td>\n",
       "      <td>...</td>\n",
       "      <td>10101.0</td>\n",
       "      <td>NaN</td>\n",
       "      <td>0</td>\n",
       "      <td>NaN</td>\n",
       "      <td>1</td>\n",
       "      <td>1.0</td>\n",
       "      <td>1.0</td>\n",
       "      <td>18v2.1</td>\n",
       "      <td>12277.824113</td>\n",
       "      <td>7.550340e+06</td>\n",
       "    </tr>\n",
       "    <tr>\n",
       "      <th>1</th>\n",
       "      <td>2</td>\n",
       "      <td>MN</td>\n",
       "      <td>1</td>\n",
       "      <td>101</td>\n",
       "      <td>101</td>\n",
       "      <td>1.0</td>\n",
       "      <td>1001.0</td>\n",
       "      <td>2.0</td>\n",
       "      <td>1</td>\n",
       "      <td>10004</td>\n",
       "      <td>...</td>\n",
       "      <td>10101.0</td>\n",
       "      <td>NaN</td>\n",
       "      <td>0</td>\n",
       "      <td>NaN</td>\n",
       "      <td>1</td>\n",
       "      <td>NaN</td>\n",
       "      <td>1.0</td>\n",
       "      <td>18v2.1</td>\n",
       "      <td>3940.840373</td>\n",
       "      <td>5.018974e+05</td>\n",
       "    </tr>\n",
       "    <tr>\n",
       "      <th>2</th>\n",
       "      <td>25</td>\n",
       "      <td>MN</td>\n",
       "      <td>7</td>\n",
       "      <td>38</td>\n",
       "      <td>101</td>\n",
       "      <td>9.0</td>\n",
       "      <td>1016.0</td>\n",
       "      <td>2.0</td>\n",
       "      <td>1</td>\n",
       "      <td>10004</td>\n",
       "      <td>...</td>\n",
       "      <td>10101.0</td>\n",
       "      <td>NaN</td>\n",
       "      <td>0</td>\n",
       "      <td>NaN</td>\n",
       "      <td>1</td>\n",
       "      <td>1.0</td>\n",
       "      <td>1.0</td>\n",
       "      <td>18v2.1</td>\n",
       "      <td>168.522578</td>\n",
       "      <td>1.619162e+03</td>\n",
       "    </tr>\n",
       "    <tr>\n",
       "      <th>3</th>\n",
       "      <td>3</td>\n",
       "      <td>MN</td>\n",
       "      <td>1</td>\n",
       "      <td>201</td>\n",
       "      <td>101</td>\n",
       "      <td>1.0</td>\n",
       "      <td>1000.0</td>\n",
       "      <td>2.0</td>\n",
       "      <td>1</td>\n",
       "      <td>10004</td>\n",
       "      <td>...</td>\n",
       "      <td>10101.0</td>\n",
       "      <td>NaN</td>\n",
       "      <td>0</td>\n",
       "      <td>NaN</td>\n",
       "      <td>1</td>\n",
       "      <td>NaN</td>\n",
       "      <td>1.0</td>\n",
       "      <td>18v2.1</td>\n",
       "      <td>6306.268341</td>\n",
       "      <td>1.148539e+06</td>\n",
       "    </tr>\n",
       "    <tr>\n",
       "      <th>4</th>\n",
       "      <td>4</td>\n",
       "      <td>MN</td>\n",
       "      <td>2</td>\n",
       "      <td>1</td>\n",
       "      <td>101</td>\n",
       "      <td>9.0</td>\n",
       "      <td>1025.0</td>\n",
       "      <td>2.0</td>\n",
       "      <td>1</td>\n",
       "      <td>10004</td>\n",
       "      <td>...</td>\n",
       "      <td>10101.0</td>\n",
       "      <td>NaN</td>\n",
       "      <td>1000020001</td>\n",
       "      <td>08/07/2012</td>\n",
       "      <td>1</td>\n",
       "      <td>1.0</td>\n",
       "      <td>1.0</td>\n",
       "      <td>18v2.1</td>\n",
       "      <td>2721.060649</td>\n",
       "      <td>1.008250e+05</td>\n",
       "    </tr>\n",
       "  </tbody>\n",
       "</table>\n",
       "<p>5 rows × 90 columns</p>\n",
       "</div>"
      ],
      "text/plain": [
       "   id borough  block  lot   cd  ct2010  cb2010  schooldist  council  zipcode  \\\n",
       "0   1      MN      1   10  101     5.0  1022.0         2.0        1    10004   \n",
       "1   2      MN      1  101  101     1.0  1001.0         2.0        1    10004   \n",
       "2  25      MN      7   38  101     9.0  1016.0         2.0        1    10004   \n",
       "3   3      MN      1  201  101     1.0  1000.0         2.0        1    10004   \n",
       "4   4      MN      2    1  101     9.0  1025.0         2.0        1    10004   \n",
       "\n",
       "       ...        taxmap  edesignum      appbbl     appdate  plutomapid  \\\n",
       "0      ...       10101.0        NaN           0         NaN           1   \n",
       "1      ...       10101.0        NaN           0         NaN           1   \n",
       "2      ...       10101.0        NaN           0         NaN           1   \n",
       "3      ...       10101.0        NaN           0         NaN           1   \n",
       "4      ...       10101.0        NaN  1000020001  08/07/2012           1   \n",
       "\n",
       "   firm07_fla pfirm15_fl version    shape_leng    shape_area  \n",
       "0         1.0        1.0  18v2.1  12277.824113  7.550340e+06  \n",
       "1         NaN        1.0  18v2.1   3940.840373  5.018974e+05  \n",
       "2         1.0        1.0  18v2.1    168.522578  1.619162e+03  \n",
       "3         NaN        1.0  18v2.1   6306.268341  1.148539e+06  \n",
       "4         1.0        1.0  18v2.1   2721.060649  1.008250e+05  \n",
       "\n",
       "[5 rows x 90 columns]"
      ]
     },
     "execution_count": 13,
     "metadata": {},
     "output_type": "execute_result"
    }
   ],
   "source": [
    "slamm = pd.read_csv('Data/SLAMM_Data.csv')\n",
    "slamm.head()"
   ]
  },
  {
   "cell_type": "code",
   "execution_count": 15,
   "metadata": {
    "scrolled": true
   },
   "outputs": [
    {
     "data": {
      "text/html": [
       "<div>\n",
       "<style scoped>\n",
       "    .dataframe tbody tr th:only-of-type {\n",
       "        vertical-align: middle;\n",
       "    }\n",
       "\n",
       "    .dataframe tbody tr th {\n",
       "        vertical-align: top;\n",
       "    }\n",
       "\n",
       "    .dataframe thead th {\n",
       "        text-align: right;\n",
       "    }\n",
       "</style>\n",
       "<table border=\"1\" class=\"dataframe\">\n",
       "  <thead>\n",
       "    <tr style=\"text-align: right;\">\n",
       "      <th></th>\n",
       "      <th>id</th>\n",
       "      <th>objectid</th>\n",
       "      <th>statefp</th>\n",
       "      <th>countyfp</th>\n",
       "      <th>tractce</th>\n",
       "      <th>geoid</th>\n",
       "      <th>name</th>\n",
       "      <th>namelsad</th>\n",
       "      <th>mtfcc</th>\n",
       "      <th>funcstat</th>\n",
       "      <th>...</th>\n",
       "      <th>geoid_data</th>\n",
       "      <th>population</th>\n",
       "      <th>housing_units</th>\n",
       "      <th>poverty_population</th>\n",
       "      <th>median_income</th>\n",
       "      <th>while_alone_population</th>\n",
       "      <th>population_5_years_and_over</th>\n",
       "      <th>language_only_english_5_years_and_over</th>\n",
       "      <th>total_household</th>\n",
       "      <th>household_received_food_stamps</th>\n",
       "    </tr>\n",
       "  </thead>\n",
       "  <tbody>\n",
       "    <tr>\n",
       "      <th>0</th>\n",
       "      <td>1</td>\n",
       "      <td>4</td>\n",
       "      <td>36</td>\n",
       "      <td>81</td>\n",
       "      <td>3400</td>\n",
       "      <td>36081003400</td>\n",
       "      <td>34.0</td>\n",
       "      <td>Census Tract 34</td>\n",
       "      <td>G5020</td>\n",
       "      <td>S</td>\n",
       "      <td>...</td>\n",
       "      <td>14000US36081003400</td>\n",
       "      <td>318</td>\n",
       "      <td>90</td>\n",
       "      <td>420</td>\n",
       "      <td>67292</td>\n",
       "      <td>785</td>\n",
       "      <td>2471</td>\n",
       "      <td>1137</td>\n",
       "      <td>660</td>\n",
       "      <td>151</td>\n",
       "    </tr>\n",
       "    <tr>\n",
       "      <th>1</th>\n",
       "      <td>2</td>\n",
       "      <td>5</td>\n",
       "      <td>36</td>\n",
       "      <td>81</td>\n",
       "      <td>3900</td>\n",
       "      <td>36081003900</td>\n",
       "      <td>39.0</td>\n",
       "      <td>Census Tract 39</td>\n",
       "      <td>G5020</td>\n",
       "      <td>S</td>\n",
       "      <td>...</td>\n",
       "      <td>14000US36081003900</td>\n",
       "      <td>193</td>\n",
       "      <td>65</td>\n",
       "      <td>504</td>\n",
       "      <td>41477</td>\n",
       "      <td>869</td>\n",
       "      <td>1510</td>\n",
       "      <td>510</td>\n",
       "      <td>475</td>\n",
       "      <td>104</td>\n",
       "    </tr>\n",
       "    <tr>\n",
       "      <th>2</th>\n",
       "      <td>3</td>\n",
       "      <td>6</td>\n",
       "      <td>36</td>\n",
       "      <td>81</td>\n",
       "      <td>3600</td>\n",
       "      <td>36081003600</td>\n",
       "      <td>36.0</td>\n",
       "      <td>Census Tract 36</td>\n",
       "      <td>G5020</td>\n",
       "      <td>S</td>\n",
       "      <td>...</td>\n",
       "      <td>14000US36081003600</td>\n",
       "      <td>275</td>\n",
       "      <td>81</td>\n",
       "      <td>282</td>\n",
       "      <td>77005</td>\n",
       "      <td>985</td>\n",
       "      <td>3527</td>\n",
       "      <td>1373</td>\n",
       "      <td>947</td>\n",
       "      <td>152</td>\n",
       "    </tr>\n",
       "    <tr>\n",
       "      <th>3</th>\n",
       "      <td>4</td>\n",
       "      <td>7</td>\n",
       "      <td>36</td>\n",
       "      <td>81</td>\n",
       "      <td>3700</td>\n",
       "      <td>36081003700</td>\n",
       "      <td>37.0</td>\n",
       "      <td>Census Tract 37</td>\n",
       "      <td>G5020</td>\n",
       "      <td>S</td>\n",
       "      <td>...</td>\n",
       "      <td>14000US36081003700</td>\n",
       "      <td>0</td>\n",
       "      <td>0</td>\n",
       "      <td>0</td>\n",
       "      <td>0</td>\n",
       "      <td>0</td>\n",
       "      <td>0</td>\n",
       "      <td>0</td>\n",
       "      <td>0</td>\n",
       "      <td>0</td>\n",
       "    </tr>\n",
       "    <tr>\n",
       "      <th>4</th>\n",
       "      <td>5</td>\n",
       "      <td>8</td>\n",
       "      <td>36</td>\n",
       "      <td>81</td>\n",
       "      <td>3800</td>\n",
       "      <td>36081003800</td>\n",
       "      <td>38.0</td>\n",
       "      <td>Census Tract 38</td>\n",
       "      <td>G5020</td>\n",
       "      <td>S</td>\n",
       "      <td>...</td>\n",
       "      <td>14000US36081003800</td>\n",
       "      <td>295</td>\n",
       "      <td>95</td>\n",
       "      <td>430</td>\n",
       "      <td>57614</td>\n",
       "      <td>998</td>\n",
       "      <td>2356</td>\n",
       "      <td>1003</td>\n",
       "      <td>746</td>\n",
       "      <td>180</td>\n",
       "    </tr>\n",
       "  </tbody>\n",
       "</table>\n",
       "<p>5 rows × 26 columns</p>\n",
       "</div>"
      ],
      "text/plain": [
       "   id  objectid  statefp  countyfp  tractce        geoid  name  \\\n",
       "0   1         4       36        81     3400  36081003400  34.0   \n",
       "1   2         5       36        81     3900  36081003900  39.0   \n",
       "2   3         6       36        81     3600  36081003600  36.0   \n",
       "3   4         7       36        81     3700  36081003700  37.0   \n",
       "4   5         8       36        81     3800  36081003800  38.0   \n",
       "\n",
       "          namelsad  mtfcc funcstat               ...                \\\n",
       "0  Census Tract 34  G5020        S               ...                 \n",
       "1  Census Tract 39  G5020        S               ...                 \n",
       "2  Census Tract 36  G5020        S               ...                 \n",
       "3  Census Tract 37  G5020        S               ...                 \n",
       "4  Census Tract 38  G5020        S               ...                 \n",
       "\n",
       "           geoid_data  population  housing_units  poverty_population  \\\n",
       "0  14000US36081003400         318             90                 420   \n",
       "1  14000US36081003900         193             65                 504   \n",
       "2  14000US36081003600         275             81                 282   \n",
       "3  14000US36081003700           0              0                   0   \n",
       "4  14000US36081003800         295             95                 430   \n",
       "\n",
       "   median_income  while_alone_population population_5_years_and_over  \\\n",
       "0          67292                     785                        2471   \n",
       "1          41477                     869                        1510   \n",
       "2          77005                     985                        3527   \n",
       "3              0                       0                           0   \n",
       "4          57614                     998                        2356   \n",
       "\n",
       "   language_only_english_5_years_and_over  total_household  \\\n",
       "0                                    1137              660   \n",
       "1                                     510              475   \n",
       "2                                    1373              947   \n",
       "3                                       0                0   \n",
       "4                                    1003              746   \n",
       "\n",
       "   household_received_food_stamps  \n",
       "0                             151  \n",
       "1                             104  \n",
       "2                             152  \n",
       "3                               0  \n",
       "4                             180  \n",
       "\n",
       "[5 rows x 26 columns]"
      ]
     },
     "execution_count": 15,
     "metadata": {},
     "output_type": "execute_result"
    }
   ],
   "source": [
    "ct = pd.read_csv('Data/CensusTract.csv')\n",
    "ct.head()"
   ]
  },
  {
   "cell_type": "code",
   "execution_count": 34,
   "metadata": {},
   "outputs": [],
   "source": [
    "ct = ct[ct['median_income'] > 0]"
   ]
  },
  {
   "cell_type": "code",
   "execution_count": 35,
   "metadata": {
    "scrolled": false
   },
   "outputs": [
    {
     "data": {
      "text/plain": [
       "<matplotlib.axes._subplots.AxesSubplot at 0x121ed5d30>"
      ]
     },
     "execution_count": 35,
     "metadata": {},
     "output_type": "execute_result"
    },
    {
     "data": {
      "image/png": "[encoded data removed]",
      "text/plain": [
       "<Figure size 432x288 with 1 Axes>"
      ]
     },
     "metadata": {
      "needs_background": "light"
     },
     "output_type": "display_data"
    }
   ],
   "source": [
    "ct.median_income.hist()"
   ]
  },
  {
   "cell_type": "code",
   "execution_count": 36,
   "metadata": {
    "scrolled": true
   },
   "outputs": [
    {
     "data": {
      "text/plain": [
       "0.1355206847360913"
      ]
     },
     "execution_count": 36,
     "metadata": {},
     "output_type": "execute_result"
    }
   ],
   "source": [
    "sum(ct.population > ct.while_alone_population)/len(ct)"
   ]
  },
  {
   "cell_type": "code",
   "execution_count": 37,
   "metadata": {
    "scrolled": true
   },
   "outputs": [
    {
     "data": {
      "text/plain": [
       "<matplotlib.axes._subplots.AxesSubplot at 0x121f68470>"
      ]
     },
     "execution_count": 37,
     "metadata": {},
     "output_type": "execute_result"
    },
    {
     "data": {
      "image/png": "[encoded data removed]",
      "text/plain": [
       "<Figure size 432x288 with 1 Axes>"
      ]
     },
     "metadata": {
      "needs_background": "light"
     },
     "output_type": "display_data"
    }
   ],
   "source": [
    "ct['percent_not_onlyenglish'] = (ct['population_5_years_and_over'] - ct['language_only_english_5_years_and_over'])/ct['population_5_years_and_over'] \n",
    "\n",
    "ct.percent_not_onlyenglish.hist()"
   ]
  },
  {
   "cell_type": "code",
   "execution_count": 38,
   "metadata": {},
   "outputs": [
    {
     "data": {
      "text/plain": [
       "<matplotlib.axes._subplots.AxesSubplot at 0x122063710>"
      ]
     },
     "execution_count": 38,
     "metadata": {},
     "output_type": "execute_result"
    },
    {
     "data": {
      "image/png": "[encoded data removed]",
      "text/plain": [
       "<Figure size 432x288 with 1 Axes>"
      ]
     },
     "metadata": {
      "needs_background": "light"
     },
     "output_type": "display_data"
    }
   ],
   "source": [
    "ct['percent_household_received_foodstamps'] = ct['household_received_food_stamps']/ct['total_household']\n",
    "ct.percent_household_received_foodstamps.hist()"
   ]
  },
  {
   "cell_type": "code",
   "execution_count": 27,
   "metadata": {
    "scrolled": true
   },
   "outputs": [],
   "source": [
    "slamm_cts = slamm.ct2010.unique()\n",
    "slamm_cts = set([x for x in slamm_cts if str(x) != 'nan'])"
   ]
  },
  {
   "cell_type": "code",
   "execution_count": 30,
   "metadata": {},
   "outputs": [],
   "source": [
    "ct['is_slamm'] = ct.name.apply(lambda x: 1 if x in slamm_cts else 0)"
   ]
  },
  {
   "cell_type": "code",
   "execution_count": 31,
   "metadata": {},
   "outputs": [
    {
     "data": {
      "text/plain": [
       "0    1346\n",
       "1     821\n",
       "Name: name, dtype: int64"
      ]
     },
     "execution_count": 31,
     "metadata": {},
     "output_type": "execute_result"
    }
   ],
   "source": [
    "ct.is_slamm.value_counts()"
   ]
  },
  {
   "cell_type": "code",
   "execution_count": 39,
   "metadata": {
    "scrolled": true
   },
   "outputs": [
    {
     "data": {
      "text/html": [
       "<div>\n",
       "<style scoped>\n",
       "    .dataframe tbody tr th:only-of-type {\n",
       "        vertical-align: middle;\n",
       "    }\n",
       "\n",
       "    .dataframe tbody tr th {\n",
       "        vertical-align: top;\n",
       "    }\n",
       "\n",
       "    .dataframe thead th {\n",
       "        text-align: right;\n",
       "    }\n",
       "</style>\n",
       "<table border=\"1\" class=\"dataframe\">\n",
       "  <thead>\n",
       "    <tr style=\"text-align: right;\">\n",
       "      <th></th>\n",
       "      <th>id</th>\n",
       "      <th>objectid</th>\n",
       "      <th>statefp</th>\n",
       "      <th>countyfp</th>\n",
       "      <th>tractce</th>\n",
       "      <th>geoid</th>\n",
       "      <th>name</th>\n",
       "      <th>namelsad</th>\n",
       "      <th>mtfcc</th>\n",
       "      <th>funcstat</th>\n",
       "      <th>...</th>\n",
       "      <th>poverty_population</th>\n",
       "      <th>median_income</th>\n",
       "      <th>while_alone_population</th>\n",
       "      <th>population_5_years_and_over</th>\n",
       "      <th>language_only_english_5_years_and_over</th>\n",
       "      <th>total_household</th>\n",
       "      <th>household_received_food_stamps</th>\n",
       "      <th>is_slamm</th>\n",
       "      <th>percent_not_onlyenglish</th>\n",
       "      <th>percent_household_received_foodstamps</th>\n",
       "    </tr>\n",
       "  </thead>\n",
       "  <tbody>\n",
       "    <tr>\n",
       "      <th>0</th>\n",
       "      <td>1</td>\n",
       "      <td>4</td>\n",
       "      <td>36</td>\n",
       "      <td>81</td>\n",
       "      <td>3400</td>\n",
       "      <td>36081003400</td>\n",
       "      <td>34.00</td>\n",
       "      <td>Census Tract 34</td>\n",
       "      <td>G5020</td>\n",
       "      <td>S</td>\n",
       "      <td>...</td>\n",
       "      <td>420</td>\n",
       "      <td>67292</td>\n",
       "      <td>785</td>\n",
       "      <td>2471</td>\n",
       "      <td>1137</td>\n",
       "      <td>660</td>\n",
       "      <td>151</td>\n",
       "      <td>1</td>\n",
       "      <td>0.539862</td>\n",
       "      <td>0.228788</td>\n",
       "    </tr>\n",
       "    <tr>\n",
       "      <th>1</th>\n",
       "      <td>2</td>\n",
       "      <td>5</td>\n",
       "      <td>36</td>\n",
       "      <td>81</td>\n",
       "      <td>3900</td>\n",
       "      <td>36081003900</td>\n",
       "      <td>39.00</td>\n",
       "      <td>Census Tract 39</td>\n",
       "      <td>G5020</td>\n",
       "      <td>S</td>\n",
       "      <td>...</td>\n",
       "      <td>504</td>\n",
       "      <td>41477</td>\n",
       "      <td>869</td>\n",
       "      <td>1510</td>\n",
       "      <td>510</td>\n",
       "      <td>475</td>\n",
       "      <td>104</td>\n",
       "      <td>1</td>\n",
       "      <td>0.662252</td>\n",
       "      <td>0.218947</td>\n",
       "    </tr>\n",
       "    <tr>\n",
       "      <th>2</th>\n",
       "      <td>3</td>\n",
       "      <td>6</td>\n",
       "      <td>36</td>\n",
       "      <td>81</td>\n",
       "      <td>3600</td>\n",
       "      <td>36081003600</td>\n",
       "      <td>36.00</td>\n",
       "      <td>Census Tract 36</td>\n",
       "      <td>G5020</td>\n",
       "      <td>S</td>\n",
       "      <td>...</td>\n",
       "      <td>282</td>\n",
       "      <td>77005</td>\n",
       "      <td>985</td>\n",
       "      <td>3527</td>\n",
       "      <td>1373</td>\n",
       "      <td>947</td>\n",
       "      <td>152</td>\n",
       "      <td>0</td>\n",
       "      <td>0.610717</td>\n",
       "      <td>0.160507</td>\n",
       "    </tr>\n",
       "    <tr>\n",
       "      <th>4</th>\n",
       "      <td>5</td>\n",
       "      <td>8</td>\n",
       "      <td>36</td>\n",
       "      <td>81</td>\n",
       "      <td>3800</td>\n",
       "      <td>36081003800</td>\n",
       "      <td>38.00</td>\n",
       "      <td>Census Tract 38</td>\n",
       "      <td>G5020</td>\n",
       "      <td>S</td>\n",
       "      <td>...</td>\n",
       "      <td>430</td>\n",
       "      <td>57614</td>\n",
       "      <td>998</td>\n",
       "      <td>2356</td>\n",
       "      <td>1003</td>\n",
       "      <td>746</td>\n",
       "      <td>180</td>\n",
       "      <td>1</td>\n",
       "      <td>0.574278</td>\n",
       "      <td>0.241287</td>\n",
       "    </tr>\n",
       "    <tr>\n",
       "      <th>5</th>\n",
       "      <td>6</td>\n",
       "      <td>9</td>\n",
       "      <td>36</td>\n",
       "      <td>81</td>\n",
       "      <td>4001</td>\n",
       "      <td>36081004001</td>\n",
       "      <td>40.01</td>\n",
       "      <td>Census Tract 40.01</td>\n",
       "      <td>G5020</td>\n",
       "      <td>S</td>\n",
       "      <td>...</td>\n",
       "      <td>350</td>\n",
       "      <td>56607</td>\n",
       "      <td>799</td>\n",
       "      <td>2136</td>\n",
       "      <td>712</td>\n",
       "      <td>653</td>\n",
       "      <td>149</td>\n",
       "      <td>0</td>\n",
       "      <td>0.666667</td>\n",
       "      <td>0.228178</td>\n",
       "    </tr>\n",
       "  </tbody>\n",
       "</table>\n",
       "<p>5 rows × 29 columns</p>\n",
       "</div>"
      ],
      "text/plain": [
       "   id  objectid  statefp  countyfp  tractce        geoid   name  \\\n",
       "0   1         4       36        81     3400  36081003400  34.00   \n",
       "1   2         5       36        81     3900  36081003900  39.00   \n",
       "2   3         6       36        81     3600  36081003600  36.00   \n",
       "4   5         8       36        81     3800  36081003800  38.00   \n",
       "5   6         9       36        81     4001  36081004001  40.01   \n",
       "\n",
       "             namelsad  mtfcc funcstat                  ...                    \\\n",
       "0     Census Tract 34  G5020        S                  ...                     \n",
       "1     Census Tract 39  G5020        S                  ...                     \n",
       "2     Census Tract 36  G5020        S                  ...                     \n",
       "4     Census Tract 38  G5020        S                  ...                     \n",
       "5  Census Tract 40.01  G5020        S                  ...                     \n",
       "\n",
       "   poverty_population  median_income  while_alone_population  \\\n",
       "0                 420          67292                     785   \n",
       "1                 504          41477                     869   \n",
       "2                 282          77005                     985   \n",
       "4                 430          57614                     998   \n",
       "5                 350          56607                     799   \n",
       "\n",
       "   population_5_years_and_over  language_only_english_5_years_and_over  \\\n",
       "0                         2471                                    1137   \n",
       "1                         1510                                     510   \n",
       "2                         3527                                    1373   \n",
       "4                         2356                                    1003   \n",
       "5                         2136                                     712   \n",
       "\n",
       "   total_household household_received_food_stamps  is_slamm  \\\n",
       "0              660                            151         1   \n",
       "1              475                            104         1   \n",
       "2              947                            152         0   \n",
       "4              746                            180         1   \n",
       "5              653                            149         0   \n",
       "\n",
       "   percent_not_onlyenglish  percent_household_received_foodstamps  \n",
       "0                 0.539862                               0.228788  \n",
       "1                 0.662252                               0.218947  \n",
       "2                 0.610717                               0.160507  \n",
       "4                 0.574278                               0.241287  \n",
       "5                 0.666667                               0.228178  \n",
       "\n",
       "[5 rows x 29 columns]"
      ]
     },
     "execution_count": 39,
     "metadata": {},
     "output_type": "execute_result"
    }
   ],
   "source": [
    "ct.head()"
   ]
  },
  {
   "cell_type": "markdown",
   "metadata": {},
   "source": [
    "# Two sample t-test\n",
    "alpha = 0.05\n",
    "\n",
    "https://docs.scipy.org/doc/scipy/reference/generated/scipy.stats.ttest_ind.html"
   ]
  },
  {
   "cell_type": "code",
   "execution_count": 44,
   "metadata": {
    "scrolled": true
   },
   "outputs": [
    {
     "data": {
      "text/plain": [
       "Ttest_indResult(statistic=-4.542248259301712, pvalue=5.881162769647609e-06)"
      ]
     },
     "execution_count": 44,
     "metadata": {},
     "output_type": "execute_result"
    }
   ],
   "source": [
    "#median_income\n",
    "stats.ttest_ind(ct[ct['is_slamm'] == 0]['median_income'], ct[ct['is_slamm'] == 1]['median_income'])\n",
    "#reject null hypothesis\n",
    "\n"
   ]
  },
  {
   "cell_type": "code",
   "execution_count": 45,
   "metadata": {},
   "outputs": [
    {
     "data": {
      "text/plain": [
       "Ttest_indResult(statistic=3.3657254726472052, pvalue=0.0007771648246769853)"
      ]
     },
     "execution_count": 45,
     "metadata": {},
     "output_type": "execute_result"
    }
   ],
   "source": [
    "#percent_not_onlyenglish\n",
    "stats.ttest_ind(ct[ct['is_slamm'] == 0]['percent_not_onlyenglish'], ct[ct['is_slamm'] == 1]['percent_not_onlyenglish'])\n",
    "#reject null hypothesis\n",
    "\n"
   ]
  },
  {
   "cell_type": "code",
   "execution_count": 46,
   "metadata": {},
   "outputs": [
    {
     "data": {
      "text/plain": [
       "Ttest_indResult(statistic=1.1942467675058976, pvalue=0.23251626405905831)"
      ]
     },
     "execution_count": 46,
     "metadata": {},
     "output_type": "execute_result"
    }
   ],
   "source": [
    "#percent_household_received_foodstamps\n",
    "stats.ttest_ind(ct[ct['is_slamm'] == 0]['percent_household_received_foodstamps'], ct[ct['is_slamm'] == 1]['percent_household_received_foodstamps'])\n",
    "#fail to reject null hypothesis\n",
    "\n"
   ]
  },
  {
   "cell_type": "code",
   "execution_count": 61,
   "metadata": {},
   "outputs": [
    {
     "data": {
      "text/plain": [
       "Text(0, 0.5, 'Counts')"
      ]
     },
     "execution_count": 61,
     "metadata": {},
     "output_type": "execute_result"
    },
    {
     "data": {
      "image/png": "[encoded data removed]",
      "text/plain": [
       "<Figure size 360x396 with 1 Axes>"
      ]
     },
     "metadata": {
      "needs_background": "light"
     },
     "output_type": "display_data"
    }
   ],
   "source": [
    "plt.figure(figsize=(5,5.5))\n",
    "bins = 20\n",
    "plt.hist(ct[ct['is_slamm'] == 0]['median_income'], bins=bins, alpha = 0.5, label='no_flood')\n",
    "plt.hist(ct[ct['is_slamm'] == 1]['median_income'], bins=bins, alpha = 0.5, label='flood')\n",
    "plt.legend(loc='upper right')\n",
    "plt.title('Census Tract Median Household Income\\n(ACS 5-Year 2016)', fontsize=18)\n",
    "plt.xlabel('Median Household Income ($)', fontsize=12)\n",
    "plt.ylabel('Counts')"
   ]
  },
  {
   "cell_type": "code",
   "execution_count": 72,
   "metadata": {},
   "outputs": [
    {
     "data": {
      "text/plain": [
       "Text(0, 0.5, 'Counts')"
      ]
     },
     "execution_count": 72,
     "metadata": {},
     "output_type": "execute_result"
    },
    {
     "data": {
      "image/png": "[encoded data removed]",
      "text/plain": [
       "<Figure size 360x396 with 1 Axes>"
      ]
     },
     "metadata": {
      "needs_background": "light"
     },
     "output_type": "display_data"
    }
   ],
   "source": [
    "plt.figure(figsize=(5,5.5))\n",
    "bins = 20\n",
    "plt.hist(ct[ct['is_slamm'] == 0]['percent_not_onlyenglish'], bins=bins, alpha = 0.5, label='no_flood')\n",
    "plt.hist(ct[ct['is_slamm'] == 1]['percent_not_onlyenglish'], bins=bins, alpha = 0.5, label='flood')\n",
    "plt.legend(loc='upper right')\n",
    "plt.title('Census Tract Percentage of Families\\nNot Only Speaking English\\n(ACS 5-Year 2016)', fontsize=16)\n",
    "plt.xlabel('Families Not Only Speaking English', fontsize=12)\n",
    "plt.ylabel('Counts')"
   ]
  },
  {
   "cell_type": "code",
   "execution_count": 65,
   "metadata": {},
   "outputs": [
    {
     "data": {
      "text/plain": [
       "Text(0, 0.5, 'Counts')"
      ]
     },
     "execution_count": 65,
     "metadata": {},
     "output_type": "execute_result"
    },
    {
     "data": {
      "image/png": "[encoded data removed]",
      "text/plain": [
       "<Figure size 360x396 with 1 Axes>"
      ]
     },
     "metadata": {
      "needs_background": "light"
     },
     "output_type": "display_data"
    }
   ],
   "source": [
    "plt.figure(figsize=(5,5.5))\n",
    "bins = 20\n",
    "plt.hist(ct[ct['is_slamm'] == 0]['percent_household_received_foodstamps'], bins=bins, alpha = 0.5, label='no_flood')\n",
    "plt.hist(ct[ct['is_slamm'] == 1]['percent_household_received_foodstamps'], bins=bins, alpha = 0.5, label='flood')\n",
    "plt.legend(loc='upper right')\n",
    "plt.title('Census Tract Percentage of Households That\\nHave Received Foodstamps In the Past Year\\n(ACS 5-Year 2016)', fontsize=16)\n",
    "plt.xlabel('Families Receiving Foodstamps', fontsize=12)\n",
    "plt.ylabel('Counts')"
   ]
  },
  {
   "cell_type": "code",
   "execution_count": 71,
   "metadata": {},
   "outputs": [
    {
     "data": {
      "text/plain": [
       "54583.0"
      ]
     },
     "execution_count": 71,
     "metadata": {},
     "output_type": "execute_result"
    }
   ],
   "source": [
    "ct[ct['is_slamm'] == 0]['median_income'].median()"
   ]
  },
  {
   "cell_type": "code",
   "execution_count": 70,
   "metadata": {},
   "outputs": [
    {
     "data": {
      "text/plain": [
       "60408.5"
      ]
     },
     "execution_count": 70,
     "metadata": {},
     "output_type": "execute_result"
    }
   ],
   "source": [
    "ct[ct['is_slamm'] == 1]['median_income'].median()"
   ]
  },
  {
   "cell_type": "code",
   "execution_count": 73,
   "metadata": {},
   "outputs": [
    {
     "data": {
      "text/plain": [
       "0.4907092939505639"
      ]
     },
     "execution_count": 73,
     "metadata": {},
     "output_type": "execute_result"
    }
   ],
   "source": [
    "ct[ct['is_slamm'] == 0]['percent_not_onlyenglish'].mean()"
   ]
  },
  {
   "cell_type": "code",
   "execution_count": 74,
   "metadata": {},
   "outputs": [
    {
     "data": {
      "text/plain": [
       "0.4569109403513959"
      ]
     },
     "execution_count": 74,
     "metadata": {},
     "output_type": "execute_result"
    }
   ],
   "source": [
    "ct[ct['is_slamm'] == 1]['percent_not_onlyenglish'].mean()"
   ]
  },
  {
   "cell_type": "code",
   "execution_count": 77,
   "metadata": {},
   "outputs": [
    {
     "data": {
      "text/plain": [
       "0.17149643705463183"
      ]
     },
     "execution_count": 77,
     "metadata": {},
     "output_type": "execute_result"
    }
   ],
   "source": [
    "ct[ct['is_slamm'] == 0]['percent_household_received_foodstamps'].median()"
   ]
  },
  {
   "cell_type": "code",
   "execution_count": 78,
   "metadata": {},
   "outputs": [
    {
     "data": {
      "text/plain": [
       "0.15238432483474976"
      ]
     },
     "execution_count": 78,
     "metadata": {},
     "output_type": "execute_result"
    }
   ],
   "source": [
    "ct[ct['is_slamm'] == 1]['percent_household_received_foodstamps'].median()"
   ]
  }
 ],
 "metadata": {
  "kernelspec": {
   "display_name": "Python 3",
   "language": "python",
   "name": "python3"
  },
  "language_info": {
   "codemirror_mode": {
    "name": "ipython",
    "version": 3
   },
   "file_extension": ".py",
   "mimetype": "text/x-python",
   "name": "python",
   "nbconvert_exporter": "python",
   "pygments_lexer": "ipython3",
   "version": "3.7.1"
  }
 },
 "nbformat": 4,
 "nbformat_minor": 2
}
